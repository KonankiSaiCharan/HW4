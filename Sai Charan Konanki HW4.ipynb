{
 "cells": [
  {
   "cell_type": "code",
   "execution_count": 1,
   "metadata": {},
   "outputs": [],
   "source": [
    "# Import packages\n",
    "\n",
    "import pandas as pd\n",
    "import matplotlib.pyplot as plt\n",
    "import numpy as np"
   ]
  },
  {
   "cell_type": "code",
   "execution_count": 2,
   "metadata": {},
   "outputs": [],
   "source": [
    "# Question 1:"
   ]
  },
  {
   "cell_type": "code",
   "execution_count": 65,
   "metadata": {},
   "outputs": [
    {
     "name": "stderr",
     "output_type": "stream",
     "text": [
      "C:\\Users\\saich\\Anaconda3\\lib\\site-packages\\IPython\\core\\interactiveshell.py:2785: DtypeWarning: Columns (0,3) have mixed types. Specify dtype option on import or set low_memory=False.\n",
      "  interactivity=interactivity, compiler=compiler, result=result)\n",
      "C:\\Users\\saich\\Anaconda3\\lib\\site-packages\\IPython\\core\\interactiveshell.py:2785: DtypeWarning: Columns (6) have mixed types. Specify dtype option on import or set low_memory=False.\n",
      "  interactivity=interactivity, compiler=compiler, result=result)\n",
      "C:\\Users\\saich\\Anaconda3\\lib\\site-packages\\IPython\\core\\interactiveshell.py:2785: DtypeWarning: Columns (17) have mixed types. Specify dtype option on import or set low_memory=False.\n",
      "  interactivity=interactivity, compiler=compiler, result=result)\n"
     ]
    }
   ],
   "source": [
    "# Obtaining necessary data\n",
    "\n",
    "FederalData = pd.read_csv('C:\\\\Users\\\\saich\\\\Desktop\\\\Information Visualization Proj\\\\HW3\\\\Sdf16_1a.txt',sep=\"\\t\")\n",
    "Disable_Data = pd.read_csv('C:\\\\Users\\\\saich\\\\Desktop\\\\Information Visualization Proj\\\\HW4\\\\ccd_lea_002089_1516_w_1a_011717_csv\\\\ccd_lea_002089_1516_w_1a_011717.csv')\n",
    "RacialData = pd.read_csv('C:\\\\Users\\\\saich\\\\Desktop\\\\Information Visualization Proj\\\\HW4\\\\ccd_lea_052_1516_w_1a_011717_csv\\\\ccd_lea_052_1516_w_1a_011717.csv')\n",
    "MathData = pd.read_csv('C:\\\\Users\\\\saich\\\\Desktop\\\\Information Visualization Proj\\\\HW3\\\\math-achievement-lea-sy2015-16.csv',sep=',')"
   ]
  },
  {
   "cell_type": "code",
   "execution_count": 4,
   "metadata": {},
   "outputs": [],
   "source": [
    "FederalData = FederalData[FederalData.TFEDREV.notnull()]\n",
    "FederalData = FederalData[FederalData.V33.notnull()]\n",
    "FederalData = FederalData[FederalData.TFEDREV >= 0]\n",
    "FederalData = FederalData[FederalData.V33 >= 0]"
   ]
  },
  {
   "cell_type": "code",
   "execution_count": 5,
   "metadata": {},
   "outputs": [],
   "source": [
    "# Grouping by state name and summing up fed revenue and sorting in reverse \n",
    "\n",
    "FederalDataSub = FederalData.filter(['TFEDREV','STNAME','V33','LEAID'], axis=1)\n",
    "FederalData_top = FederalDataSub.groupby(['STNAME']).sum().sort_values(by='TFEDREV', ascending=False).reset_index()"
   ]
  },
  {
   "cell_type": "code",
   "execution_count": 6,
   "metadata": {},
   "outputs": [
    {
     "data": {
      "text/html": [
       "<div>\n",
       "<style scoped>\n",
       "    .dataframe tbody tr th:only-of-type {\n",
       "        vertical-align: middle;\n",
       "    }\n",
       "\n",
       "    .dataframe tbody tr th {\n",
       "        vertical-align: top;\n",
       "    }\n",
       "\n",
       "    .dataframe thead th {\n",
       "        text-align: right;\n",
       "    }\n",
       "</style>\n",
       "<table border=\"1\" class=\"dataframe\">\n",
       "  <thead>\n",
       "    <tr style=\"text-align: right;\">\n",
       "      <th></th>\n",
       "      <th>STNAME</th>\n",
       "      <th>TFEDREV</th>\n",
       "      <th>V33</th>\n",
       "    </tr>\n",
       "  </thead>\n",
       "  <tbody>\n",
       "    <tr>\n",
       "      <th>0</th>\n",
       "      <td>California</td>\n",
       "      <td>7621532000</td>\n",
       "      <td>6203660</td>\n",
       "    </tr>\n",
       "    <tr>\n",
       "      <th>1</th>\n",
       "      <td>Texas</td>\n",
       "      <td>5907429000</td>\n",
       "      <td>5299728</td>\n",
       "    </tr>\n",
       "    <tr>\n",
       "      <th>2</th>\n",
       "      <td>New York</td>\n",
       "      <td>3362525000</td>\n",
       "      <td>2591989</td>\n",
       "    </tr>\n",
       "    <tr>\n",
       "      <th>3</th>\n",
       "      <td>Florida</td>\n",
       "      <td>3147329000</td>\n",
       "      <td>2776933</td>\n",
       "    </tr>\n",
       "    <tr>\n",
       "      <th>4</th>\n",
       "      <td>Illinois</td>\n",
       "      <td>2122994000</td>\n",
       "      <td>2030075</td>\n",
       "    </tr>\n",
       "  </tbody>\n",
       "</table>\n",
       "</div>"
      ],
      "text/plain": [
       "       STNAME     TFEDREV      V33\n",
       "0  California  7621532000  6203660\n",
       "1       Texas  5907429000  5299728\n",
       "2    New York  3362525000  2591989\n",
       "3     Florida  3147329000  2776933\n",
       "4    Illinois  2122994000  2030075"
      ]
     },
     "execution_count": 6,
     "metadata": {},
     "output_type": "execute_result"
    }
   ],
   "source": [
    "# What are the top ranking states\n",
    "\n",
    "FederalData_top.head(5)"
   ]
  },
  {
   "cell_type": "code",
   "execution_count": 7,
   "metadata": {},
   "outputs": [],
   "source": [
    "# What is the funding per student\n",
    "\n",
    "FederalData_top['FedFundPerStudent'] = FederalData_top['TFEDREV']/FederalData_top['V33']\n",
    "FederalData_topState = FederalData_top.sort_values(by='FedFundPerStudent', ascending=False).reset_index()"
   ]
  },
  {
   "cell_type": "code",
   "execution_count": 8,
   "metadata": {},
   "outputs": [
    {
     "data": {
      "text/plain": [
       "<Figure size 1080x432 with 0 Axes>"
      ]
     },
     "metadata": {},
     "output_type": "display_data"
    },
    {
     "data": {
      "image/png": "[encoded data removed]",
      "text/plain": [
       "<Figure size 432x288 with 1 Axes>"
      ]
     },
     "metadata": {},
     "output_type": "display_data"
    }
   ],
   "source": [
    "# Plotting federal funding revenue \n",
    "plt.figure(figsize=(15,6))\n",
    "FederalData_top[:20].plot(kind='bar', y='TFEDREV', x='STNAME',color='red')\n",
    "plt.ylabel(\"Federal Funding Revenue\")\n",
    "plt.title('State Name')\n",
    "plt.show()"
   ]
  },
  {
   "cell_type": "code",
   "execution_count": 9,
   "metadata": {},
   "outputs": [
    {
     "data": {
      "text/plain": [
       "<Figure size 1080x432 with 0 Axes>"
      ]
     },
     "metadata": {},
     "output_type": "display_data"
    },
    {
     "data": {
      "image/png": "[encoded data removed]",
      "text/plain": [
       "<Figure size 432x288 with 1 Axes>"
      ]
     },
     "metadata": {},
     "output_type": "display_data"
    }
   ],
   "source": [
    "# Plotting federal funding per student \n",
    "plt.figure(figsize=(15,6))\n",
    "FederalData_topState[:20].plot(kind='bar', y='FedFundPerStudent', x='STNAME',color='red')\n",
    "plt.ylabel(\"Federal Funding per student\")\n",
    "plt.title('State Name')\n",
    "plt.show()"
   ]
  },
  {
   "cell_type": "code",
   "execution_count": 10,
   "metadata": {},
   "outputs": [],
   "source": [
    "# Question 2:\n",
    "\n",
    "# Subsetting required rows\n",
    "FederalDataState = FederalData.filter(['TOTALEXP','TOTALREV','STNAME','V33','LEAID'], axis=1)"
   ]
  },
  {
   "cell_type": "code",
   "execution_count": 11,
   "metadata": {},
   "outputs": [],
   "source": [
    "# Sorting \n",
    "\n",
    "FederalDataState= FederalDataState[(FederalDataState[['TOTALEXP']] >= 0).all(axis=1)]\n",
    "FederalDataState = FederalDataState[(FederalDataState[['TOTALREV']] >= 0).all(axis=1)]\n",
    "FederalDataStateSum = FederalDataState.groupby(['LEAID'],as_index=False).sum().sort_values(by='TOTALREV', ascending=False)"
   ]
  },
  {
   "cell_type": "code",
   "execution_count": 12,
   "metadata": {},
   "outputs": [
    {
     "data": {
      "text/html": [
       "<div>\n",
       "<style scoped>\n",
       "    .dataframe tbody tr th:only-of-type {\n",
       "        vertical-align: middle;\n",
       "    }\n",
       "\n",
       "    .dataframe tbody tr th {\n",
       "        vertical-align: top;\n",
       "    }\n",
       "\n",
       "    .dataframe thead th {\n",
       "        text-align: right;\n",
       "    }\n",
       "</style>\n",
       "<table border=\"1\" class=\"dataframe\">\n",
       "  <thead>\n",
       "    <tr style=\"text-align: right;\">\n",
       "      <th></th>\n",
       "      <th>LEAID</th>\n",
       "      <th>TOTALEXP</th>\n",
       "      <th>TOTALREV</th>\n",
       "      <th>V33</th>\n",
       "    </tr>\n",
       "  </thead>\n",
       "  <tbody>\n",
       "    <tr>\n",
       "      <th>11903</th>\n",
       "      <td>3620580</td>\n",
       "      <td>29620098000</td>\n",
       "      <td>27448356000</td>\n",
       "      <td>981667</td>\n",
       "    </tr>\n",
       "    <tr>\n",
       "      <th>1577</th>\n",
       "      <td>622710</td>\n",
       "      <td>9686165000</td>\n",
       "      <td>10329380000</td>\n",
       "      <td>639337</td>\n",
       "    </tr>\n",
       "    <tr>\n",
       "      <th>8764</th>\n",
       "      <td>1709930</td>\n",
       "      <td>5963039000</td>\n",
       "      <td>5272668000</td>\n",
       "      <td>387311</td>\n",
       "    </tr>\n",
       "    <tr>\n",
       "      <th>8163</th>\n",
       "      <td>1200390</td>\n",
       "      <td>3654722000</td>\n",
       "      <td>3590773000</td>\n",
       "      <td>357579</td>\n",
       "    </tr>\n",
       "    <tr>\n",
       "      <th>4965</th>\n",
       "      <td>3200060</td>\n",
       "      <td>3081183000</td>\n",
       "      <td>3220684000</td>\n",
       "      <td>325990</td>\n",
       "    </tr>\n",
       "  </tbody>\n",
       "</table>\n",
       "</div>"
      ],
      "text/plain": [
       "         LEAID     TOTALEXP     TOTALREV     V33\n",
       "11903  3620580  29620098000  27448356000  981667\n",
       "1577    622710   9686165000  10329380000  639337\n",
       "8764   1709930   5963039000   5272668000  387311\n",
       "8163   1200390   3654722000   3590773000  357579\n",
       "4965   3200060   3081183000   3220684000  325990"
      ]
     },
     "execution_count": 12,
     "metadata": {},
     "output_type": "execute_result"
    }
   ],
   "source": [
    "FederalDataStateSum.head(5)"
   ]
  },
  {
   "cell_type": "code",
   "execution_count": 13,
   "metadata": {},
   "outputs": [
    {
     "data": {
      "image/png": "[encoded data removed]",
      "text/plain": [
       "<Figure size 432x288 with 1 Axes>"
      ]
     },
     "metadata": {},
     "output_type": "display_data"
    }
   ],
   "source": [
    "plt.plot(FederalDataStateSum['TOTALREV'],FederalDataStateSum['TOTALEXP'],COLOR = 'RED')\n",
    "plt.ylabel('Expenditure')\n",
    "plt.xlabel('Revenue')\n",
    "plt.title('Revenue vs Expenditure')\n",
    "plt.show()"
   ]
  },
  {
   "cell_type": "code",
   "execution_count": 14,
   "metadata": {},
   "outputs": [],
   "source": [
    "FederalDataState1=FederalDataState.groupby(['STNAME'],as_index=False).sum().sort_values(by='TOTALREV', ascending=False)\n",
    "FederalDataState1['DEBT_PERSTUDENT']=np.subtract(FederalDataState1['TOTALEXP'],FederalDataState1['TOTALREV'])/FederalDataState1['V33']\n",
    "FederalDataState1=FederalDataState1.sort_values(by='DEBT_PERSTUDENT',axis=0, ascending=False)"
   ]
  },
  {
   "cell_type": "code",
   "execution_count": 15,
   "metadata": {},
   "outputs": [
    {
     "data": {
      "image/png": "[encoded data removed]",
      "text/plain": [
       "<Figure size 432x288 with 1 Axes>"
      ]
     },
     "metadata": {},
     "output_type": "display_data"
    }
   ],
   "source": [
    "plt.bar(FederalDataState1['STNAME'][:15], FederalDataState1['DEBT_PERSTUDENT'][:15],COLOR = 'RED')\n",
    "plt.ylabel('State Name')\n",
    "plt.xlabel('Debt Per Studentt')\n",
    "plt.title('Debt per student distribution for state')\n",
    "plt.xticks(rotation=90)\n",
    "plt.show()"
   ]
  },
  {
   "cell_type": "code",
   "execution_count": 26,
   "metadata": {},
   "outputs": [],
   "source": [
    "LEAID = []\n",
    "amount = []\n",
    "value = 0\n",
    "state = []\n",
    "TotalRevenue = []"
   ]
  },
  {
   "cell_type": "code",
   "execution_count": 27,
   "metadata": {},
   "outputs": [
    {
     "name": "stdout",
     "output_type": "stream",
     "text": [
      "53226934000\n",
      "45242893900.0\n"
     ]
    }
   ],
   "source": [
    "FederalDataSub4 = FederalData.filter(['TFEDREV','STNAME','LEAID','TOTALREV','TOTALEXP','TSTREV','TLOCREV'], axis=1)\n",
    "HowMuchMoney = FederalDataSub4['TFEDREV'].sum()\n",
    "FederalDataSub4['Extra'] = FederalDataSub4['TOTALREV'] - FederalDataSub4['TOTALEXP']\n",
    "NeededRows = FederalDataSub4[FederalDataSub4['Extra']>=FederalDataSub4['TFEDREV']]\n",
    "\n",
    "print(HowMuchMoney)\n",
    "print(HowMuchMoney*0.85)"
   ]
  },
  {
   "cell_type": "code",
   "execution_count": 28,
   "metadata": {},
   "outputs": [],
   "source": [
    "for j,k in NeededRows.iterrows(): \n",
    "    if value <= (HowMuchMoney*0.15):\n",
    "        amount.append(k['TFEDREV'])\n",
    "        TotalRevenue.append(k['TOTALREV'])\n",
    "        LEAID.append(k['LEAID'])\n",
    "        state.append(k['STNAME'])\n",
    "\n",
    "        value = value + k['TFEDREV']"
   ]
  },
  {
   "cell_type": "code",
   "execution_count": 29,
   "metadata": {},
   "outputs": [
    {
     "data": {
      "text/plain": [
       "5512"
      ]
     },
     "execution_count": 29,
     "metadata": {},
     "output_type": "execute_result"
    }
   ],
   "source": [
    "len(state)"
   ]
  },
  {
   "cell_type": "code",
   "execution_count": 54,
   "metadata": {
    "scrolled": true
   },
   "outputs": [],
   "source": [
    "ProcessedData = pd.DataFrame({'LEAID':LEAID, 'STNAME':state, 'TotalRevenue':TotalRevenue, 'leaid': LEAID,'amount': amount}).sort_values('amount',ascending=False)\n",
    "ProcessedDataNew = ProcessedData.groupby(['STNAME'],as_index=False).sum()\n",
    "ProcessedDataNew['Propn'] = (ProcessedDataNew['amount']/ProcessedDataNew['TotalRevenue'])"
   ]
  },
  {
   "cell_type": "code",
   "execution_count": 75,
   "metadata": {
    "scrolled": true
   },
   "outputs": [
    {
     "data": {
      "text/html": [
       "<div>\n",
       "<style scoped>\n",
       "    .dataframe tbody tr th:only-of-type {\n",
       "        vertical-align: middle;\n",
       "    }\n",
       "\n",
       "    .dataframe tbody tr th {\n",
       "        vertical-align: top;\n",
       "    }\n",
       "\n",
       "    .dataframe thead th {\n",
       "        text-align: right;\n",
       "    }\n",
       "</style>\n",
       "<table border=\"1\" class=\"dataframe\">\n",
       "  <thead>\n",
       "    <tr style=\"text-align: right;\">\n",
       "      <th></th>\n",
       "      <th>LEAID</th>\n",
       "      <th>STNAME</th>\n",
       "      <th>TotalRevenue</th>\n",
       "      <th>amount</th>\n",
       "      <th>leaid</th>\n",
       "      <th>Propn</th>\n",
       "    </tr>\n",
       "  </thead>\n",
       "  <tbody>\n",
       "    <tr>\n",
       "      <th>201</th>\n",
       "      <td>400893</td>\n",
       "      <td>Arizona</td>\n",
       "      <td>1929000</td>\n",
       "      <td>621000</td>\n",
       "      <td>400893</td>\n",
       "      <td>0.321928</td>\n",
       "    </tr>\n",
       "    <tr>\n",
       "      <th>3717</th>\n",
       "      <td>3811850</td>\n",
       "      <td>North Dakota</td>\n",
       "      <td>6089000</td>\n",
       "      <td>1931000</td>\n",
       "      <td>3811850</td>\n",
       "      <td>0.317129</td>\n",
       "    </tr>\n",
       "    <tr>\n",
       "      <th>64</th>\n",
       "      <td>400190</td>\n",
       "      <td>Arizona</td>\n",
       "      <td>4590000</td>\n",
       "      <td>1213000</td>\n",
       "      <td>400190</td>\n",
       "      <td>0.264270</td>\n",
       "    </tr>\n",
       "    <tr>\n",
       "      <th>107</th>\n",
       "      <td>400332</td>\n",
       "      <td>Arizona</td>\n",
       "      <td>866000</td>\n",
       "      <td>197000</td>\n",
       "      <td>400332</td>\n",
       "      <td>0.227483</td>\n",
       "    </tr>\n",
       "    <tr>\n",
       "      <th>437</th>\n",
       "      <td>615510</td>\n",
       "      <td>California</td>\n",
       "      <td>67885000</td>\n",
       "      <td>14838000</td>\n",
       "      <td>615510</td>\n",
       "      <td>0.218576</td>\n",
       "    </tr>\n",
       "    <tr>\n",
       "      <th>109</th>\n",
       "      <td>400343</td>\n",
       "      <td>Arizona</td>\n",
       "      <td>2720000</td>\n",
       "      <td>582000</td>\n",
       "      <td>400343</td>\n",
       "      <td>0.213971</td>\n",
       "    </tr>\n",
       "    <tr>\n",
       "      <th>159</th>\n",
       "      <td>400788</td>\n",
       "      <td>Arizona</td>\n",
       "      <td>5894000</td>\n",
       "      <td>1260000</td>\n",
       "      <td>400788</td>\n",
       "      <td>0.213777</td>\n",
       "    </tr>\n",
       "    <tr>\n",
       "      <th>139</th>\n",
       "      <td>400649</td>\n",
       "      <td>Arizona</td>\n",
       "      <td>6746000</td>\n",
       "      <td>1375000</td>\n",
       "      <td>400649</td>\n",
       "      <td>0.203824</td>\n",
       "    </tr>\n",
       "    <tr>\n",
       "      <th>2012</th>\n",
       "      <td>2500557</td>\n",
       "      <td>Massachusetts</td>\n",
       "      <td>2144000</td>\n",
       "      <td>426000</td>\n",
       "      <td>2500557</td>\n",
       "      <td>0.198694</td>\n",
       "    </tr>\n",
       "    <tr>\n",
       "      <th>1872</th>\n",
       "      <td>2201170</td>\n",
       "      <td>Louisiana</td>\n",
       "      <td>523356000</td>\n",
       "      <td>102276000</td>\n",
       "      <td>2201170</td>\n",
       "      <td>0.195423</td>\n",
       "    </tr>\n",
       "    <tr>\n",
       "      <th>48</th>\n",
       "      <td>400124</td>\n",
       "      <td>Arizona</td>\n",
       "      <td>1423000</td>\n",
       "      <td>277000</td>\n",
       "      <td>400124</td>\n",
       "      <td>0.194659</td>\n",
       "    </tr>\n",
       "    <tr>\n",
       "      <th>158</th>\n",
       "      <td>400786</td>\n",
       "      <td>Arizona</td>\n",
       "      <td>3085000</td>\n",
       "      <td>593000</td>\n",
       "      <td>400786</td>\n",
       "      <td>0.192220</td>\n",
       "    </tr>\n",
       "    <tr>\n",
       "      <th>3738</th>\n",
       "      <td>3900083</td>\n",
       "      <td>Ohio</td>\n",
       "      <td>3617000</td>\n",
       "      <td>692000</td>\n",
       "      <td>3900083</td>\n",
       "      <td>0.191319</td>\n",
       "    </tr>\n",
       "    <tr>\n",
       "      <th>4590</th>\n",
       "      <td>4800063</td>\n",
       "      <td>Texas</td>\n",
       "      <td>10423000</td>\n",
       "      <td>1984000</td>\n",
       "      <td>4800063</td>\n",
       "      <td>0.190348</td>\n",
       "    </tr>\n",
       "    <tr>\n",
       "      <th>113</th>\n",
       "      <td>400361</td>\n",
       "      <td>Arizona</td>\n",
       "      <td>15720000</td>\n",
       "      <td>2986000</td>\n",
       "      <td>400361</td>\n",
       "      <td>0.189949</td>\n",
       "    </tr>\n",
       "    <tr>\n",
       "      <th>121</th>\n",
       "      <td>400407</td>\n",
       "      <td>Arizona</td>\n",
       "      <td>2157000</td>\n",
       "      <td>407000</td>\n",
       "      <td>400407</td>\n",
       "      <td>0.188688</td>\n",
       "    </tr>\n",
       "    <tr>\n",
       "      <th>1852</th>\n",
       "      <td>2105040</td>\n",
       "      <td>Kentucky</td>\n",
       "      <td>6829000</td>\n",
       "      <td>1284000</td>\n",
       "      <td>2105040</td>\n",
       "      <td>0.188022</td>\n",
       "    </tr>\n",
       "    <tr>\n",
       "      <th>190</th>\n",
       "      <td>400863</td>\n",
       "      <td>Arizona</td>\n",
       "      <td>4698000</td>\n",
       "      <td>878000</td>\n",
       "      <td>400863</td>\n",
       "      <td>0.186888</td>\n",
       "    </tr>\n",
       "    <tr>\n",
       "      <th>104</th>\n",
       "      <td>400326</td>\n",
       "      <td>Arizona</td>\n",
       "      <td>7239000</td>\n",
       "      <td>1344000</td>\n",
       "      <td>400326</td>\n",
       "      <td>0.185661</td>\n",
       "    </tr>\n",
       "    <tr>\n",
       "      <th>2719</th>\n",
       "      <td>3009000</td>\n",
       "      <td>Montana</td>\n",
       "      <td>108000</td>\n",
       "      <td>20000</td>\n",
       "      <td>3009000</td>\n",
       "      <td>0.185185</td>\n",
       "    </tr>\n",
       "    <tr>\n",
       "      <th>4607</th>\n",
       "      <td>4800098</td>\n",
       "      <td>Texas</td>\n",
       "      <td>2426000</td>\n",
       "      <td>447000</td>\n",
       "      <td>4800098</td>\n",
       "      <td>0.184254</td>\n",
       "    </tr>\n",
       "    <tr>\n",
       "      <th>4622</th>\n",
       "      <td>4800192</td>\n",
       "      <td>Texas</td>\n",
       "      <td>3078000</td>\n",
       "      <td>565000</td>\n",
       "      <td>4800192</td>\n",
       "      <td>0.183561</td>\n",
       "    </tr>\n",
       "    <tr>\n",
       "      <th>2205</th>\n",
       "      <td>2600067</td>\n",
       "      <td>Michigan</td>\n",
       "      <td>1908000</td>\n",
       "      <td>343000</td>\n",
       "      <td>2600067</td>\n",
       "      <td>0.179769</td>\n",
       "    </tr>\n",
       "    <tr>\n",
       "      <th>4991</th>\n",
       "      <td>4838790</td>\n",
       "      <td>Texas</td>\n",
       "      <td>128234000</td>\n",
       "      <td>22800000</td>\n",
       "      <td>4838790</td>\n",
       "      <td>0.177800</td>\n",
       "    </tr>\n",
       "    <tr>\n",
       "      <th>57</th>\n",
       "      <td>400163</td>\n",
       "      <td>Arizona</td>\n",
       "      <td>2796000</td>\n",
       "      <td>491000</td>\n",
       "      <td>400163</td>\n",
       "      <td>0.175608</td>\n",
       "    </tr>\n",
       "    <tr>\n",
       "      <th>79</th>\n",
       "      <td>400239</td>\n",
       "      <td>Arizona</td>\n",
       "      <td>9009000</td>\n",
       "      <td>1577000</td>\n",
       "      <td>400239</td>\n",
       "      <td>0.175047</td>\n",
       "    </tr>\n",
       "    <tr>\n",
       "      <th>3735</th>\n",
       "      <td>3819680</td>\n",
       "      <td>North Dakota</td>\n",
       "      <td>2164000</td>\n",
       "      <td>378000</td>\n",
       "      <td>3819680</td>\n",
       "      <td>0.174677</td>\n",
       "    </tr>\n",
       "    <tr>\n",
       "      <th>217</th>\n",
       "      <td>401160</td>\n",
       "      <td>Arizona</td>\n",
       "      <td>2232000</td>\n",
       "      <td>382000</td>\n",
       "      <td>401160</td>\n",
       "      <td>0.171147</td>\n",
       "    </tr>\n",
       "    <tr>\n",
       "      <th>5021</th>\n",
       "      <td>4842060</td>\n",
       "      <td>Texas</td>\n",
       "      <td>16199000</td>\n",
       "      <td>2731000</td>\n",
       "      <td>4842060</td>\n",
       "      <td>0.168591</td>\n",
       "    </tr>\n",
       "    <tr>\n",
       "      <th>2599</th>\n",
       "      <td>2909120</td>\n",
       "      <td>Missouri</td>\n",
       "      <td>3537000</td>\n",
       "      <td>596000</td>\n",
       "      <td>2909120</td>\n",
       "      <td>0.168504</td>\n",
       "    </tr>\n",
       "    <tr>\n",
       "      <th>...</th>\n",
       "      <td>...</td>\n",
       "      <td>...</td>\n",
       "      <td>...</td>\n",
       "      <td>...</td>\n",
       "      <td>...</td>\n",
       "      <td>...</td>\n",
       "    </tr>\n",
       "    <tr>\n",
       "      <th>67</th>\n",
       "      <td>400206</td>\n",
       "      <td>Arizona</td>\n",
       "      <td>529000</td>\n",
       "      <td>0</td>\n",
       "      <td>400206</td>\n",
       "      <td>0.000000</td>\n",
       "    </tr>\n",
       "    <tr>\n",
       "      <th>118</th>\n",
       "      <td>400391</td>\n",
       "      <td>Arizona</td>\n",
       "      <td>180000</td>\n",
       "      <td>0</td>\n",
       "      <td>400391</td>\n",
       "      <td>0.000000</td>\n",
       "    </tr>\n",
       "    <tr>\n",
       "      <th>102</th>\n",
       "      <td>400322</td>\n",
       "      <td>Arizona</td>\n",
       "      <td>1534000</td>\n",
       "      <td>0</td>\n",
       "      <td>400322</td>\n",
       "      <td>0.000000</td>\n",
       "    </tr>\n",
       "    <tr>\n",
       "      <th>171</th>\n",
       "      <td>400826</td>\n",
       "      <td>Arizona</td>\n",
       "      <td>574000</td>\n",
       "      <td>0</td>\n",
       "      <td>400826</td>\n",
       "      <td>0.000000</td>\n",
       "    </tr>\n",
       "    <tr>\n",
       "      <th>17</th>\n",
       "      <td>400037</td>\n",
       "      <td>Arizona</td>\n",
       "      <td>2186000</td>\n",
       "      <td>0</td>\n",
       "      <td>400037</td>\n",
       "      <td>0.000000</td>\n",
       "    </tr>\n",
       "    <tr>\n",
       "      <th>3672</th>\n",
       "      <td>3700374</td>\n",
       "      <td>North Carolina</td>\n",
       "      <td>1877000</td>\n",
       "      <td>0</td>\n",
       "      <td>3700374</td>\n",
       "      <td>0.000000</td>\n",
       "    </tr>\n",
       "    <tr>\n",
       "      <th>42</th>\n",
       "      <td>400108</td>\n",
       "      <td>Arizona</td>\n",
       "      <td>1858000</td>\n",
       "      <td>0</td>\n",
       "      <td>400108</td>\n",
       "      <td>0.000000</td>\n",
       "    </tr>\n",
       "    <tr>\n",
       "      <th>3731</th>\n",
       "      <td>3817940</td>\n",
       "      <td>North Dakota</td>\n",
       "      <td>166000</td>\n",
       "      <td>0</td>\n",
       "      <td>3817940</td>\n",
       "      <td>0.000000</td>\n",
       "    </tr>\n",
       "    <tr>\n",
       "      <th>3676</th>\n",
       "      <td>3700382</td>\n",
       "      <td>North Carolina</td>\n",
       "      <td>1893000</td>\n",
       "      <td>0</td>\n",
       "      <td>3700382</td>\n",
       "      <td>0.000000</td>\n",
       "    </tr>\n",
       "    <tr>\n",
       "      <th>3678</th>\n",
       "      <td>3700387</td>\n",
       "      <td>North Carolina</td>\n",
       "      <td>1004000</td>\n",
       "      <td>0</td>\n",
       "      <td>3700387</td>\n",
       "      <td>0.000000</td>\n",
       "    </tr>\n",
       "    <tr>\n",
       "      <th>5213</th>\n",
       "      <td>5008235</td>\n",
       "      <td>Vermont</td>\n",
       "      <td>14144000</td>\n",
       "      <td>0</td>\n",
       "      <td>5008235</td>\n",
       "      <td>0.000000</td>\n",
       "    </tr>\n",
       "    <tr>\n",
       "      <th>5215</th>\n",
       "      <td>5008246</td>\n",
       "      <td>Vermont</td>\n",
       "      <td>7635000</td>\n",
       "      <td>0</td>\n",
       "      <td>5008246</td>\n",
       "      <td>0.000000</td>\n",
       "    </tr>\n",
       "    <tr>\n",
       "      <th>5217</th>\n",
       "      <td>5008400</td>\n",
       "      <td>Vermont</td>\n",
       "      <td>2589000</td>\n",
       "      <td>0</td>\n",
       "      <td>5008400</td>\n",
       "      <td>0.000000</td>\n",
       "    </tr>\n",
       "    <tr>\n",
       "      <th>5221</th>\n",
       "      <td>5008940</td>\n",
       "      <td>Vermont</td>\n",
       "      <td>5156000</td>\n",
       "      <td>0</td>\n",
       "      <td>5008940</td>\n",
       "      <td>0.000000</td>\n",
       "    </tr>\n",
       "    <tr>\n",
       "      <th>208</th>\n",
       "      <td>400918</td>\n",
       "      <td>Arizona</td>\n",
       "      <td>363000</td>\n",
       "      <td>0</td>\n",
       "      <td>400918</td>\n",
       "      <td>0.000000</td>\n",
       "    </tr>\n",
       "    <tr>\n",
       "      <th>22</th>\n",
       "      <td>400065</td>\n",
       "      <td>Arizona</td>\n",
       "      <td>19129000</td>\n",
       "      <td>0</td>\n",
       "      <td>400065</td>\n",
       "      <td>0.000000</td>\n",
       "    </tr>\n",
       "    <tr>\n",
       "      <th>5224</th>\n",
       "      <td>5009120</td>\n",
       "      <td>Vermont</td>\n",
       "      <td>725000</td>\n",
       "      <td>0</td>\n",
       "      <td>5009120</td>\n",
       "      <td>0.000000</td>\n",
       "    </tr>\n",
       "    <tr>\n",
       "      <th>101</th>\n",
       "      <td>400321</td>\n",
       "      <td>Arizona</td>\n",
       "      <td>243000</td>\n",
       "      <td>0</td>\n",
       "      <td>400321</td>\n",
       "      <td>0.000000</td>\n",
       "    </tr>\n",
       "    <tr>\n",
       "      <th>5226</th>\n",
       "      <td>5009270</td>\n",
       "      <td>Vermont</td>\n",
       "      <td>400000</td>\n",
       "      <td>0</td>\n",
       "      <td>5009270</td>\n",
       "      <td>0.000000</td>\n",
       "    </tr>\n",
       "    <tr>\n",
       "      <th>19</th>\n",
       "      <td>400053</td>\n",
       "      <td>Arizona</td>\n",
       "      <td>5691000</td>\n",
       "      <td>0</td>\n",
       "      <td>400053</td>\n",
       "      <td>0.000000</td>\n",
       "    </tr>\n",
       "    <tr>\n",
       "      <th>3716</th>\n",
       "      <td>3811540</td>\n",
       "      <td>North Dakota</td>\n",
       "      <td>341000</td>\n",
       "      <td>0</td>\n",
       "      <td>3811540</td>\n",
       "      <td>0.000000</td>\n",
       "    </tr>\n",
       "    <tr>\n",
       "      <th>5230</th>\n",
       "      <td>5099960</td>\n",
       "      <td>Vermont</td>\n",
       "      <td>3744000</td>\n",
       "      <td>0</td>\n",
       "      <td>5099960</td>\n",
       "      <td>0.000000</td>\n",
       "    </tr>\n",
       "    <tr>\n",
       "      <th>43</th>\n",
       "      <td>400111</td>\n",
       "      <td>Arizona</td>\n",
       "      <td>2801000</td>\n",
       "      <td>0</td>\n",
       "      <td>400111</td>\n",
       "      <td>0.000000</td>\n",
       "    </tr>\n",
       "    <tr>\n",
       "      <th>5223</th>\n",
       "      <td>5009060</td>\n",
       "      <td>Vermont</td>\n",
       "      <td>1185000</td>\n",
       "      <td>0</td>\n",
       "      <td>5009060</td>\n",
       "      <td>0.000000</td>\n",
       "    </tr>\n",
       "    <tr>\n",
       "      <th>3165</th>\n",
       "      <td>3415570</td>\n",
       "      <td>New Jersey</td>\n",
       "      <td>7580000</td>\n",
       "      <td>0</td>\n",
       "      <td>3415570</td>\n",
       "      <td>0.000000</td>\n",
       "    </tr>\n",
       "    <tr>\n",
       "      <th>3781</th>\n",
       "      <td>3901579</td>\n",
       "      <td>Ohio</td>\n",
       "      <td>285000</td>\n",
       "      <td>0</td>\n",
       "      <td>3901579</td>\n",
       "      <td>0.000000</td>\n",
       "    </tr>\n",
       "    <tr>\n",
       "      <th>3467</th>\n",
       "      <td>3620520</td>\n",
       "      <td>New York</td>\n",
       "      <td>899000</td>\n",
       "      <td>0</td>\n",
       "      <td>3620520</td>\n",
       "      <td>0.000000</td>\n",
       "    </tr>\n",
       "    <tr>\n",
       "      <th>4265</th>\n",
       "      <td>4200749</td>\n",
       "      <td>Pennsylvania</td>\n",
       "      <td>1407000</td>\n",
       "      <td>0</td>\n",
       "      <td>4200749</td>\n",
       "      <td>0.000000</td>\n",
       "    </tr>\n",
       "    <tr>\n",
       "      <th>4789</th>\n",
       "      <td>4817190</td>\n",
       "      <td>Texas</td>\n",
       "      <td>642000</td>\n",
       "      <td>0</td>\n",
       "      <td>4817190</td>\n",
       "      <td>0.000000</td>\n",
       "    </tr>\n",
       "    <tr>\n",
       "      <th>5210</th>\n",
       "      <td>5008100</td>\n",
       "      <td>Vermont</td>\n",
       "      <td>1614000</td>\n",
       "      <td>0</td>\n",
       "      <td>5008100</td>\n",
       "      <td>0.000000</td>\n",
       "    </tr>\n",
       "  </tbody>\n",
       "</table>\n",
       "<p>5512 rows × 6 columns</p>\n",
       "</div>"
      ],
      "text/plain": [
       "        LEAID          STNAME  TotalRevenue     amount    leaid     Propn\n",
       "201    400893         Arizona       1929000     621000   400893  0.321928\n",
       "3717  3811850    North Dakota       6089000    1931000  3811850  0.317129\n",
       "64     400190         Arizona       4590000    1213000   400190  0.264270\n",
       "107    400332         Arizona        866000     197000   400332  0.227483\n",
       "437    615510      California      67885000   14838000   615510  0.218576\n",
       "109    400343         Arizona       2720000     582000   400343  0.213971\n",
       "159    400788         Arizona       5894000    1260000   400788  0.213777\n",
       "139    400649         Arizona       6746000    1375000   400649  0.203824\n",
       "2012  2500557   Massachusetts       2144000     426000  2500557  0.198694\n",
       "1872  2201170       Louisiana     523356000  102276000  2201170  0.195423\n",
       "48     400124         Arizona       1423000     277000   400124  0.194659\n",
       "158    400786         Arizona       3085000     593000   400786  0.192220\n",
       "3738  3900083            Ohio       3617000     692000  3900083  0.191319\n",
       "4590  4800063           Texas      10423000    1984000  4800063  0.190348\n",
       "113    400361         Arizona      15720000    2986000   400361  0.189949\n",
       "121    400407         Arizona       2157000     407000   400407  0.188688\n",
       "1852  2105040        Kentucky       6829000    1284000  2105040  0.188022\n",
       "190    400863         Arizona       4698000     878000   400863  0.186888\n",
       "104    400326         Arizona       7239000    1344000   400326  0.185661\n",
       "2719  3009000         Montana        108000      20000  3009000  0.185185\n",
       "4607  4800098           Texas       2426000     447000  4800098  0.184254\n",
       "4622  4800192           Texas       3078000     565000  4800192  0.183561\n",
       "2205  2600067        Michigan       1908000     343000  2600067  0.179769\n",
       "4991  4838790           Texas     128234000   22800000  4838790  0.177800\n",
       "57     400163         Arizona       2796000     491000   400163  0.175608\n",
       "79     400239         Arizona       9009000    1577000   400239  0.175047\n",
       "3735  3819680    North Dakota       2164000     378000  3819680  0.174677\n",
       "217    401160         Arizona       2232000     382000   401160  0.171147\n",
       "5021  4842060           Texas      16199000    2731000  4842060  0.168591\n",
       "2599  2909120        Missouri       3537000     596000  2909120  0.168504\n",
       "...       ...             ...           ...        ...      ...       ...\n",
       "67     400206         Arizona        529000          0   400206  0.000000\n",
       "118    400391         Arizona        180000          0   400391  0.000000\n",
       "102    400322         Arizona       1534000          0   400322  0.000000\n",
       "171    400826         Arizona        574000          0   400826  0.000000\n",
       "17     400037         Arizona       2186000          0   400037  0.000000\n",
       "3672  3700374  North Carolina       1877000          0  3700374  0.000000\n",
       "42     400108         Arizona       1858000          0   400108  0.000000\n",
       "3731  3817940    North Dakota        166000          0  3817940  0.000000\n",
       "3676  3700382  North Carolina       1893000          0  3700382  0.000000\n",
       "3678  3700387  North Carolina       1004000          0  3700387  0.000000\n",
       "5213  5008235         Vermont      14144000          0  5008235  0.000000\n",
       "5215  5008246         Vermont       7635000          0  5008246  0.000000\n",
       "5217  5008400         Vermont       2589000          0  5008400  0.000000\n",
       "5221  5008940         Vermont       5156000          0  5008940  0.000000\n",
       "208    400918         Arizona        363000          0   400918  0.000000\n",
       "22     400065         Arizona      19129000          0   400065  0.000000\n",
       "5224  5009120         Vermont        725000          0  5009120  0.000000\n",
       "101    400321         Arizona        243000          0   400321  0.000000\n",
       "5226  5009270         Vermont        400000          0  5009270  0.000000\n",
       "19     400053         Arizona       5691000          0   400053  0.000000\n",
       "3716  3811540    North Dakota        341000          0  3811540  0.000000\n",
       "5230  5099960         Vermont       3744000          0  5099960  0.000000\n",
       "43     400111         Arizona       2801000          0   400111  0.000000\n",
       "5223  5009060         Vermont       1185000          0  5009060  0.000000\n",
       "3165  3415570      New Jersey       7580000          0  3415570  0.000000\n",
       "3781  3901579            Ohio        285000          0  3901579  0.000000\n",
       "3467  3620520        New York        899000          0  3620520  0.000000\n",
       "4265  4200749    Pennsylvania       1407000          0  4200749  0.000000\n",
       "4789  4817190           Texas        642000          0  4817190  0.000000\n",
       "5210  5008100         Vermont       1614000          0  5008100  0.000000\n",
       "\n",
       "[5512 rows x 6 columns]"
      ]
     },
     "execution_count": 75,
     "metadata": {},
     "output_type": "execute_result"
    }
   ],
   "source": [
    "ProcessedDataOld = ProcessedData\n",
    "ProcessedDataOld['Propn'] = (ProcessedData['amount']/ProcessedData['TotalRevenue'])\n",
    "ProcessedDataOld.sort_values(by='Propn', ascending=False)"
   ]
  },
  {
   "cell_type": "code",
   "execution_count": 55,
   "metadata": {},
   "outputs": [
    {
     "data": {
      "text/plain": [
       "Index(['STNAME', 'TotalRevenue', 'amount', 'Propn'], dtype='object')"
      ]
     },
     "execution_count": 55,
     "metadata": {},
     "output_type": "execute_result"
    }
   ],
   "source": [
    "ProcessedDataNew.columns"
   ]
  },
  {
   "cell_type": "code",
   "execution_count": 56,
   "metadata": {},
   "outputs": [],
   "source": [
    "ProcessedDataNew = ProcessedDataNew.sort_values(by='Propn', ascending=False)"
   ]
  },
  {
   "cell_type": "code",
   "execution_count": 73,
   "metadata": {},
   "outputs": [
    {
     "data": {
      "image/png": "[encoded data removed]",
      "text/plain": [
       "<Figure size 432x288 with 1 Axes>"
      ]
     },
     "metadata": {},
     "output_type": "display_data"
    }
   ],
   "source": [
    "# Graph to display \n",
    "\n",
    "plt.bar(ProcessedDataNew['STNAME'][:5], ProcessedDataNew['Propn'][:5], align='center')\n",
    "plt.ylabel('Fund cut proportion')\n",
    "plt.xlabel('State Name')\n",
    "plt.title('Fund cut proportions across different states')\n",
    "plt.xticks(rotation=90)\n",
    "plt.show()"
   ]
  },
  {
   "cell_type": "code",
   "execution_count": 58,
   "metadata": {},
   "outputs": [],
   "source": [
    "# Question: 2:"
   ]
  },
  {
   "cell_type": "code",
   "execution_count": 59,
   "metadata": {},
   "outputs": [
    {
     "data": {
      "text/plain": [
       "Index(['LEAID', 'STNAME', 'TotalRevenue', 'amount', 'leaid'], dtype='object')"
      ]
     },
     "execution_count": 59,
     "metadata": {},
     "output_type": "execute_result"
    }
   ],
   "source": [
    "ProcessedData.columns"
   ]
  },
  {
   "cell_type": "code",
   "execution_count": 60,
   "metadata": {},
   "outputs": [
    {
     "name": "stderr",
     "output_type": "stream",
     "text": [
      "C:\\Users\\saich\\Anaconda3\\lib\\site-packages\\IPython\\core\\interactiveshell.py:2785: DtypeWarning: Columns (6) have mixed types. Specify dtype option on import or set low_memory=False.\n",
      "  interactivity=interactivity, compiler=compiler, result=result)\n"
     ]
    }
   ],
   "source": [
    "RacialData = RacialData[(RacialData['TOTAL'] >= 0)]\n",
    "Racial = pd.DataFrame(RacialData['LEAID'])\n",
    "RacialData['Hispanic'] = RacialData['HI'] / RacialData['TOTAL']\n",
    "RacialData['Asian'] = RacialData['AS'] / RacialData['TOTAL']\n",
    "RacialData['Two or More Races'] = RacialData['TR'] / RacialData['TOTAL']\n",
    "RacialData['Hawaiian Native / Pacific Islander'] = RacialData['HP'] / RacialData['TOTAL']\n",
    "RacialData['Black'] = RacialData['BL'] / RacialData['TOTAL']\n",
    "RacialData['White'] = RacialData['WH'] / RacialData['TOTAL']\n",
    "RacialData['American Indian/Alaska Native'] = RacialData['AM'] / RacialData['TOTAL']\n",
    "RacialData = RacialData.fillna(0)\n",
    "Racial = {'TR': 'Multi-Race','HP': 'Hawaiian or Pacific Islander','BL': 'Black or African American','HI': 'Hispanic/Latino', 'AS': 'Asian','AM': 'American Indian or Alaska Native','WH': 'White'}\n",
    "Processed_Racial = RacialData.merge(ProcessedData,on=['LEAID'])\n",
    "No_Processed_Racial=RacialData[(~RacialData.LEAID.isin(Processed_Racial.LEAID))]"
   ]
  },
  {
   "cell_type": "code",
   "execution_count": 74,
   "metadata": {
    "scrolled": false
   },
   "outputs": [
    {
     "name": "stderr",
     "output_type": "stream",
     "text": [
      "C:\\Users\\saich\\Anaconda3\\lib\\site-packages\\numpy\\core\\fromnumeric.py:52: FutureWarning: reshape is deprecated and will raise in a subsequent release. Please use .values.reshape(...) instead\n",
      "  return getattr(obj, method)(*args, **kwds)\n"
     ]
    },
    {
     "data": {
      "image/png": "[encoded data removed]",
      "text/plain": [
       "<Figure size 432x288 with 1 Axes>"
      ]
     },
     "metadata": {},
     "output_type": "display_data"
    },
    {
     "data": {
      "image/png": "[encoded data removed]",
      "text/plain": [
       "<Figure size 432x288 with 1 Axes>"
      ]
     },
     "metadata": {},
     "output_type": "display_data"
    },
    {
     "data": {
      "image/png": "[encoded data removed]",
      "text/plain": [
       "<Figure size 432x288 with 1 Axes>"
      ]
     },
     "metadata": {},
     "output_type": "display_data"
    },
    {
     "data": {
      "image/png": "[encoded data removed]",
      "text/plain": [
       "<Figure size 432x288 with 1 Axes>"
      ]
     },
     "metadata": {},
     "output_type": "display_data"
    },
    {
     "data": {
      "image/png": "[encoded data removed]",
      "text/plain": [
       "<Figure size 432x288 with 1 Axes>"
      ]
     },
     "metadata": {},
     "output_type": "display_data"
    },
    {
     "data": {
      "image/png": "[encoded data removed]",
      "text/plain": [
       "<Figure size 432x288 with 1 Axes>"
      ]
     },
     "metadata": {},
     "output_type": "display_data"
    },
    {
     "data": {
      "image/png": "[encoded data removed]",
      "text/plain": [
       "<Figure size 432x288 with 1 Axes>"
      ]
     },
     "metadata": {},
     "output_type": "display_data"
    }
   ],
   "source": [
    "for Race in ['Two or More Races', 'Hawaiian Native / Pacific Islander', 'Black', 'Hispanic', 'Asian', 'American Indian/Alaska Native', 'White']:\n",
    "    plt.boxplot([Processed_Racial[Race], No_Processed_Racial[Race]],showfliers=False,vert=False)\n",
    "    plt.title(Race)\n",
    "    plt.yticks([1, 2], [\"No fund cuts districts\", \"Fund cuts districts\"])\n",
    "    plt.ylabel(\"Enrolled students proportion by race\")\n",
    "    plt.show()"
   ]
  },
  {
   "cell_type": "code",
   "execution_count": 66,
   "metadata": {},
   "outputs": [],
   "source": [
    "# Filter required columns\n",
    "Disable_Data = Disable_Data.filter(['STATENAME','LEAID','SPECED'], axis=1)\n",
    "# Merge dataset with racial data\n",
    "Disable_Data = Disable_Data.merge(RacialData,on=['LEAID'])\n",
    "Disable_Data = Disable_Data[(Disable_Data[['SPECED']] > 0).all(axis=1)]\n",
    "# Create a new variable for proportion\n",
    "Disable_Data['Propn'] = (Disable_Data['SPECED']/ Disable_Data['TOTAL'])\n",
    "# Disability fund cut dataset\n",
    "Pro_Disable_Data = Disable_Data.merge(ProcessedData,on=['LEAID'])\n",
    "# Disability no fund cut dataset\n",
    "No_Pro_Disable_Data=Disable_Data[(~Disable_Data.LEAID.isin(Pro_Disable_Data.LEAID))]"
   ]
  },
  {
   "cell_type": "code",
   "execution_count": 70,
   "metadata": {},
   "outputs": [
    {
     "name": "stderr",
     "output_type": "stream",
     "text": [
      "C:\\Users\\saich\\Anaconda3\\lib\\site-packages\\numpy\\core\\fromnumeric.py:52: FutureWarning: reshape is deprecated and will raise in a subsequent release. Please use .values.reshape(...) instead\n",
      "  return getattr(obj, method)(*args, **kwds)\n"
     ]
    },
    {
     "data": {
      "image/png": "[encoded data removed]",
      "text/plain": [
       "<Figure size 432x288 with 1 Axes>"
      ]
     },
     "metadata": {},
     "output_type": "display_data"
    }
   ],
   "source": [
    "# Create a box plot to visualize the distributions of these proportions for districts\n",
    "\n",
    "plt.boxplot([Pro_Disable_Data['SPECED'], No_Pro_Disable_Data['SPECED']],showfliers=False,vert=False)\n",
    "plt.title('Proportion of enrolled students by disability with budget cuts and without budget cuts')\n",
    "plt.yticks([1, 2], [\"No fund cuts districtrs\", \"Fund cuts districts\"])\n",
    "plt.ylabel(\"Enrolled students disability  proportions\")\n",
    "plt.show()"
   ]
  }
 ],
 "metadata": {
  "kernelspec": {
   "display_name": "Python 3",
   "language": "python",
   "name": "python3"
  },
  "language_info": {
   "codemirror_mode": {
    "name": "ipython",
    "version": 3
   },
   "file_extension": ".py",
   "mimetype": "text/x-python",
   "name": "python",
   "nbconvert_exporter": "python",
   "pygments_lexer": "ipython3",
   "version": "3.6.5"
  }
 },
 "nbformat": 4,
 "nbformat_minor": 2
}
